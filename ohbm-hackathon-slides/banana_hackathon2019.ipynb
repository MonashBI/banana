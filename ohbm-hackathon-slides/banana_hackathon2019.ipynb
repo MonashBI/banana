{
 "cells": [
  {
   "cell_type": "markdown",
   "metadata": {
    "slideshow": {
     "slide_type": "slide"
    }
   },
   "source": [
    "# Generate BIDS derivatives with Banana \n",
    "---\n",
    "### Tom Close\n",
    "### Gabriel Castrillon\n",
    "<img src=\"bananaBIDS.png\" width=\"450\" align=\"right\"/>\n"
   ]
  },
  {
   "cell_type": "markdown",
   "metadata": {
    "slideshow": {
     "slide_type": "slide"
    }
   },
   "source": [
    "## Goal \n",
    "---\n",
    "* Create a command interface for Banana (**B**rain im**A**gi**N**g **A**nalysis i**N** **A**rcana) which is BIDS compatible and dockerized\n",
    "\n",
    "## Status \n",
    "---\n",
    "* You can now run Banana directly from the command line with data in BIDS format or using docker\n",
    "\n",
    " ```bash\n",
    "      docker exec -v /RAID1/test_data/:/data ohbm_hackathon_2019/banana \"banana derive /data/bids-test mri.T1wAnalysis bet brain\"\n",
    " ```\n",
    "\n",
    "\n",
    "\n",
    "                     ##         .\n",
    "                  ## ## ##        ==\n",
    "               ## ## ## ## ##    ===\n",
    "           /\"\"\"\"\"\"\"\"\"\"\"\"\"\"\"\"\"\\___/ ===\n",
    "      ~~~ {~~ ~~~~ ~~~ ~~~~ ~~~ ~ /  ===- ~~~\n",
    "           \\______ o           __/\n",
    "             \\    \\         __/\n",
    "              \\____\\_______/\n",
    "              \n",
    "              "
   ]
  },
  {
   "cell_type": "markdown",
   "metadata": {
    "slideshow": {
     "slide_type": "slide"
    }
   },
   "source": [
    "<img src=\"banana_cmd.png\" />\n"
   ]
  },
  {
   "cell_type": "code",
   "execution_count": null,
   "metadata": {
    "collapsed": true,
    "slideshow": {
     "slide_type": "skip"
    }
   },
   "outputs": [],
   "source": []
  }
 ],
 "metadata": {
  "celltoolbar": "Slideshow",
  "kernelspec": {
   "display_name": "Python 2",
   "language": "python",
   "name": "python2"
  },
  "language_info": {
   "codemirror_mode": {
    "name": "ipython",
    "version": 2
   },
   "file_extension": ".py",
   "mimetype": "text/x-python",
   "name": "python",
   "nbconvert_exporter": "python",
   "pygments_lexer": "ipython2",
   "version": "2.7.13"
  }
 },
 "nbformat": 4,
 "nbformat_minor": 2
}
